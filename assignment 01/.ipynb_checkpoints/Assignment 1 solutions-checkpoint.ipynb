{
 "cells": [
  {
   "cell_type": "code",
   "execution_count": 1,
   "id": "f575b50b",
   "metadata": {},
   "outputs": [
    {
     "data": {
      "text/plain": [
       "gender                1000\n",
       "parental_education    1000\n",
       "test_prep_course      1000\n",
       "math_score            1000\n",
       "reading_score         1000\n",
       "writing_score         1000\n",
       "dtype: int64"
      ]
     },
     "execution_count": 1,
     "metadata": {},
     "output_type": "execute_result"
    }
   ],
   "source": [
    "# Task 1.\n",
    "# Import libraries\n",
    "import pandas as pd\n",
    "import numpy as np\n",
    "\n",
    "# Import data\n",
    "\n",
    "students = pd.read_csv('students.csv')\n",
    "students.head()\n",
    "students.notnull().sum()"
   ]
  },
  {
   "cell_type": "code",
   "execution_count": 2,
   "id": "6d0257b4",
   "metadata": {},
   "outputs": [
    {
     "name": "stdout",
     "output_type": "stream",
     "text": [
      "female    518\n",
      "male      482\n",
      "Name: gender, dtype: int64\n"
     ]
    }
   ],
   "source": [
    "# More female or male\n",
    "print(students.gender.value_counts())"
   ]
  },
  {
   "cell_type": "code",
   "execution_count": 7,
   "id": "91e1cfae",
   "metadata": {},
   "outputs": [
    {
     "name": "stderr",
     "output_type": "stream",
     "text": [
      "C:\\Users\\Imran Sarkar Sabbir\\AppData\\Local\\Temp\\ipykernel_2992\\3161043836.py:2: FutureWarning: Dropping of nuisance columns in DataFrame reductions (with 'numeric_only=None') is deprecated; in a future version this will raise TypeError.  Select only valid columns before calling the reduction.\n",
      "  students.mean()\n"
     ]
    },
    {
     "data": {
      "text/plain": [
       "math_score       66.089\n",
       "reading_score    69.169\n",
       "writing_score    68.054\n",
       "dtype: float64"
      ]
     },
     "execution_count": 7,
     "metadata": {},
     "output_type": "execute_result"
    }
   ],
   "source": [
    "# Average score\n",
    "students.mean()"
   ]
  },
  {
   "cell_type": "code",
   "execution_count": 8,
   "id": "ea9206cf",
   "metadata": {},
   "outputs": [
    {
     "data": {
      "text/html": [
       "<div>\n",
       "<style scoped>\n",
       "    .dataframe tbody tr th:only-of-type {\n",
       "        vertical-align: middle;\n",
       "    }\n",
       "\n",
       "    .dataframe tbody tr th {\n",
       "        vertical-align: top;\n",
       "    }\n",
       "\n",
       "    .dataframe thead th {\n",
       "        text-align: right;\n",
       "    }\n",
       "</style>\n",
       "<table border=\"1\" class=\"dataframe\">\n",
       "  <thead>\n",
       "    <tr style=\"text-align: right;\">\n",
       "      <th></th>\n",
       "      <th>gender</th>\n",
       "      <th>parental_education</th>\n",
       "      <th>test_prep_course</th>\n",
       "      <th>math_score</th>\n",
       "      <th>reading_score</th>\n",
       "      <th>writing_score</th>\n",
       "    </tr>\n",
       "  </thead>\n",
       "  <tbody>\n",
       "    <tr>\n",
       "      <th>458</th>\n",
       "      <td>female</td>\n",
       "      <td>bachelor's degree</td>\n",
       "      <td>none</td>\n",
       "      <td>100</td>\n",
       "      <td>100</td>\n",
       "      <td>100</td>\n",
       "    </tr>\n",
       "    <tr>\n",
       "      <th>916</th>\n",
       "      <td>male</td>\n",
       "      <td>bachelor's degree</td>\n",
       "      <td>completed</td>\n",
       "      <td>100</td>\n",
       "      <td>100</td>\n",
       "      <td>100</td>\n",
       "    </tr>\n",
       "    <tr>\n",
       "      <th>962</th>\n",
       "      <td>female</td>\n",
       "      <td>associate's degree</td>\n",
       "      <td>none</td>\n",
       "      <td>100</td>\n",
       "      <td>100</td>\n",
       "      <td>100</td>\n",
       "    </tr>\n",
       "  </tbody>\n",
       "</table>\n",
       "</div>"
      ],
      "text/plain": [
       "     gender  parental_education test_prep_course  math_score  reading_score  \\\n",
       "458  female   bachelor's degree             none         100            100   \n",
       "916    male   bachelor's degree        completed         100            100   \n",
       "962  female  associate's degree             none         100            100   \n",
       "\n",
       "     writing_score  \n",
       "458            100  \n",
       "916            100  \n",
       "962            100  "
      ]
     },
     "execution_count": 8,
     "metadata": {},
     "output_type": "execute_result"
    }
   ],
   "source": [
    "# Perfect student\n",
    "students[(students.math_score == 100) & (students.reading_score == 100) & (students.writing_score == 100)]"
   ]
  },
  {
   "cell_type": "code",
   "execution_count": 9,
   "id": "3b1543ea",
   "metadata": {},
   "outputs": [
    {
     "name": "stdout",
     "output_type": "stream",
     "text": [
      "Average score of students with test preparation course: 69.69553072625699\n",
      "Average score of students without test preparation course: 64.0778816199377\n"
     ]
    }
   ],
   "source": [
    "# Average score with and without prep_course\n",
    "average_prep = students[students.test_prep_course == 'completed'].math_score.mean()\n",
    "print('Average score of students with test preparation course:', average_prep)\n",
    "\n",
    "average_no_prep = students[students.test_prep_course == 'none'].math_score.mean()\n",
    "print('Average score of students without test preparation course:', average_no_prep)"
   ]
  },
  {
   "cell_type": "code",
   "execution_count": 10,
   "id": "a495fac7",
   "metadata": {},
   "outputs": [
    {
     "data": {
      "text/html": [
       "<div>\n",
       "<style scoped>\n",
       "    .dataframe tbody tr th:only-of-type {\n",
       "        vertical-align: middle;\n",
       "    }\n",
       "\n",
       "    .dataframe tbody tr th {\n",
       "        vertical-align: top;\n",
       "    }\n",
       "\n",
       "    .dataframe thead th {\n",
       "        text-align: right;\n",
       "    }\n",
       "</style>\n",
       "<table border=\"1\" class=\"dataframe\">\n",
       "  <thead>\n",
       "    <tr style=\"text-align: right;\">\n",
       "      <th></th>\n",
       "      <th>experience_years</th>\n",
       "      <th>age</th>\n",
       "      <th>salary</th>\n",
       "    </tr>\n",
       "  </thead>\n",
       "  <tbody>\n",
       "    <tr>\n",
       "      <th>0</th>\n",
       "      <td>1.1</td>\n",
       "      <td>NaN</td>\n",
       "      <td>39343</td>\n",
       "    </tr>\n",
       "    <tr>\n",
       "      <th>1</th>\n",
       "      <td>1.3</td>\n",
       "      <td>24.0</td>\n",
       "      <td>46205</td>\n",
       "    </tr>\n",
       "    <tr>\n",
       "      <th>2</th>\n",
       "      <td>1.5</td>\n",
       "      <td>28.7</td>\n",
       "      <td>37731</td>\n",
       "    </tr>\n",
       "    <tr>\n",
       "      <th>3</th>\n",
       "      <td>NaN</td>\n",
       "      <td>31.0</td>\n",
       "      <td>43525</td>\n",
       "    </tr>\n",
       "    <tr>\n",
       "      <th>4</th>\n",
       "      <td>2.2</td>\n",
       "      <td>NaN</td>\n",
       "      <td>39891</td>\n",
       "    </tr>\n",
       "  </tbody>\n",
       "</table>\n",
       "</div>"
      ],
      "text/plain": [
       "   experience_years   age  salary\n",
       "0               1.1   NaN   39343\n",
       "1               1.3  24.0   46205\n",
       "2               1.5  28.7   37731\n",
       "3               NaN  31.0   43525\n",
       "4               2.2   NaN   39891"
      ]
     },
     "execution_count": 10,
     "metadata": {},
     "output_type": "execute_result"
    }
   ],
   "source": [
    "# Task 2.\n",
    "# Load the data\n",
    "salary = pd.read_csv('salary.csv')\n",
    "salary.head()"
   ]
  },
  {
   "cell_type": "code",
   "execution_count": null,
   "id": "c990b7f2",
   "metadata": {},
   "outputs": [],
   "source": [
    "# Filling missing values\n",
    "salary.fillna({'experience_years': 3}, inplace = True)\n",
    "salary.age.fillna(salary.age.mean(), inplace = True)\n",
    "salary.describe()"
   ]
  },
  {
   "cell_type": "code",
   "execution_count": null,
   "id": "ed580bae",
   "metadata": {},
   "outputs": [],
   "source": [
    "# Checking correlation\n",
    "# Correlation between salary and experience is much higher than between salary and age\n",
    "# so experince seem to be more related to salary\n",
    "salary.corr()"
   ]
  },
  {
   "cell_type": "code",
   "execution_count": null,
   "id": "07f9278d",
   "metadata": {},
   "outputs": [],
   "source": [
    "# Average age of high salary employees\n",
    "\n",
    "salary_bins = [0, 55000, 90000, 125000]\n",
    "\n",
    "salary_names = ['Low', 'Medium', 'High']\n",
    "\n",
    "salary['salary_cat'] = pd.cut(salary.salary, salary_bins, labels = salary_names)\n",
    "\n",
    "print(salary.salary_cat.value_counts())\n",
    "\n",
    "salary[salary.salary_cat == 'High'].age.mean()"
   ]
  },
  {
   "cell_type": "code",
   "execution_count": null,
   "id": "60e0ee0c",
   "metadata": {},
   "outputs": [],
   "source": [
    "# Task 3. \n",
    "# Load data\n",
    "movies = pd.read_csv('movies.csv',sep = ',',index_col = 0)\n",
    "movies.head()"
   ]
  },
  {
   "cell_type": "code",
   "execution_count": null,
   "id": "b5e4e203",
   "metadata": {},
   "outputs": [],
   "source": [
    "# Remove movies with less than 100 votes\n",
    "\n",
    "movies = movies[movies.vote_count >= 100]\n",
    "movies.shape"
   ]
  },
  {
   "cell_type": "code",
   "execution_count": null,
   "id": "93386b1a",
   "metadata": {},
   "outputs": [],
   "source": [
    "# 3rd most frequent original language\n",
    "# Japan is in the third position\n",
    "movies.original_language.value_counts()[:5]"
   ]
  },
  {
   "cell_type": "code",
   "execution_count": null,
   "id": "369ba8b8",
   "metadata": {},
   "outputs": [],
   "source": [
    "# Finnish movies\n",
    "# Two movies, highest rated is The man without the past\n",
    "\n",
    "movies[movies.original_language == 'fi']"
   ]
  },
  {
   "cell_type": "code",
   "execution_count": null,
   "id": "dd9528c0",
   "metadata": {},
   "outputs": [],
   "source": [
    "# Average for french and spanish movies\n",
    "# Average for French movies is slightly higher\n",
    "\n",
    "print(movies[movies.original_language == 'fr'].vote_average.mean())\n",
    "print(movies[movies.original_language == 'es'].vote_average.mean())"
   ]
  },
  {
   "cell_type": "code",
   "execution_count": null,
   "id": "412a3d64",
   "metadata": {},
   "outputs": [],
   "source": [
    "# Most frequent vote category\n",
    "# Average vote between 5 and 7.5 is the most frequent\n",
    "\n",
    "vote_bins = [-0.01, 2.5, 5, 7.5, 10]\n",
    "\n",
    "movies['vote'] = pd.cut(movies.vote_average, vote_bins)\n",
    "\n",
    "movies.vote.value_counts()"
   ]
  },
  {
   "cell_type": "code",
   "execution_count": null,
   "id": "6bf0032b",
   "metadata": {},
   "outputs": [],
   "source": []
  }
 ],
 "metadata": {
  "kernelspec": {
   "display_name": "Python 3 (ipykernel)",
   "language": "python",
   "name": "python3"
  },
  "language_info": {
   "codemirror_mode": {
    "name": "ipython",
    "version": 3
   },
   "file_extension": ".py",
   "mimetype": "text/x-python",
   "name": "python",
   "nbconvert_exporter": "python",
   "pygments_lexer": "ipython3",
   "version": "3.10.2"
  }
 },
 "nbformat": 4,
 "nbformat_minor": 5
}
