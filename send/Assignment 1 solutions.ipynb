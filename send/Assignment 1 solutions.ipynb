{
 "cells": [
  {
   "cell_type": "code",
   "execution_count": null,
   "id": "f575b50b",
   "metadata": {},
   "outputs": [],
   "source": [
    "# Task 1.\n",
    "# Import libraries\n",
    "import pandas as pd\n",
    "import numpy as np\n",
    "\n",
    "# Import data\n",
    "\n",
    "students = pd.read_csv('students.csv')\n",
    "students.head()\n",
    "students.notnull().sum()"
   ]
  },
  {
   "cell_type": "code",
   "execution_count": null,
   "id": "6d0257b4",
   "metadata": {},
   "outputs": [],
   "source": [
    "# More female or male\n",
    "print(students.gender.value_counts())"
   ]
  },
  {
   "cell_type": "code",
   "execution_count": null,
   "id": "91e1cfae",
   "metadata": {},
   "outputs": [],
   "source": [
    "# Average score\n",
    "students.mean()"
   ]
  },
  {
   "cell_type": "code",
   "execution_count": null,
   "id": "ea9206cf",
   "metadata": {},
   "outputs": [],
   "source": [
    "# Perfect student\n",
    "students[(students.math_score == 100) & (students.reading_score == 100) & (students.writing_score == 100)]"
   ]
  },
  {
   "cell_type": "code",
   "execution_count": null,
   "id": "3b1543ea",
   "metadata": {},
   "outputs": [],
   "source": [
    "# Average score with and without prep_course\n",
    "average_prep = students[students.test_prep_course == 'completed'].math_score.mean()\n",
    "print('Average score of students with test preparation course:', average_prep)\n",
    "\n",
    "average_no_prep = students[students.test_prep_course == 'none'].math_score.mean()\n",
    "print('Average score of students without test preparation course:', average_no_prep)"
   ]
  },
  {
   "cell_type": "code",
   "execution_count": null,
   "id": "a495fac7",
   "metadata": {},
   "outputs": [],
   "source": [
    "# Task 2.\n",
    "# Load the data\n",
    "salary = pd.read_csv('salary.csv')\n",
    "salary.head()"
   ]
  },
  {
   "cell_type": "code",
   "execution_count": null,
   "id": "c990b7f2",
   "metadata": {},
   "outputs": [],
   "source": [
    "# Filling missing values\n",
    "salary.fillna({'experience_years': 3}, inplace = True)\n",
    "salary.age.fillna(salary.age.mean(), inplace = True)\n",
    "salary.describe()"
   ]
  },
  {
   "cell_type": "code",
   "execution_count": null,
   "id": "ed580bae",
   "metadata": {},
   "outputs": [],
   "source": [
    "# Checking correlation\n",
    "# Correlation between salary and experience is much higher than between salary and age\n",
    "# so experince seem to be more related to salary\n",
    "salary.corr()"
   ]
  },
  {
   "cell_type": "code",
   "execution_count": null,
   "id": "07f9278d",
   "metadata": {},
   "outputs": [],
   "source": [
    "# Average age of high salary employees\n",
    "\n",
    "salary_bins = [0, 55000, 90000, 125000]\n",
    "\n",
    "salary_names = ['Low', 'Medium', 'High']\n",
    "\n",
    "salary['salary_cat'] = pd.cut(salary.salary, salary_bins, labels = salary_names)\n",
    "\n",
    "print(salary.salary_cat.value_counts())\n",
    "\n",
    "salary[salary.salary_cat == 'High'].age.mean()"
   ]
  },
  {
   "cell_type": "code",
   "execution_count": null,
   "id": "60e0ee0c",
   "metadata": {},
   "outputs": [],
   "source": [
    "# Task 3. \n",
    "# Load data\n",
    "movies = pd.read_csv('movies.csv',sep = ',',index_col = 0)\n",
    "movies.head()"
   ]
  },
  {
   "cell_type": "code",
   "execution_count": null,
   "id": "b5e4e203",
   "metadata": {},
   "outputs": [],
   "source": [
    "# Remove movies with less than 100 votes\n",
    "\n",
    "movies = movies[movies.vote_count >= 100]\n",
    "movies.shape"
   ]
  },
  {
   "cell_type": "code",
   "execution_count": null,
   "id": "93386b1a",
   "metadata": {},
   "outputs": [],
   "source": [
    "# 3rd most frequent original language\n",
    "# Japan is in the third position\n",
    "movies.original_language.value_counts()[:5]"
   ]
  },
  {
   "cell_type": "code",
   "execution_count": null,
   "id": "369ba8b8",
   "metadata": {},
   "outputs": [],
   "source": [
    "# Finnish movies\n",
    "# Two movies, highest rated is The man without the past\n",
    "\n",
    "movies[movies.original_language == 'fi']"
   ]
  },
  {
   "cell_type": "code",
   "execution_count": null,
   "id": "dd9528c0",
   "metadata": {},
   "outputs": [],
   "source": [
    "# Average for french and spanish movies\n",
    "# Average for French movies is slightly higher\n",
    "\n",
    "print(movies[movies.original_language == 'fr'].vote_average.mean())\n",
    "print(movies[movies.original_language == 'es'].vote_average.mean())"
   ]
  },
  {
   "cell_type": "code",
   "execution_count": null,
   "id": "412a3d64",
   "metadata": {},
   "outputs": [],
   "source": [
    "# Most frequent vote category\n",
    "# Average vote between 5 and 7.5 is the most frequent\n",
    "\n",
    "vote_bins = [-0.01, 2.5, 5, 7.5, 10]\n",
    "\n",
    "movies['vote'] = pd.cut(movies.vote_average, vote_bins)\n",
    "\n",
    "movies.vote.value_counts()"
   ]
  },
  {
   "cell_type": "code",
   "execution_count": null,
   "id": "6bf0032b",
   "metadata": {},
   "outputs": [],
   "source": []
  }
 ],
 "metadata": {
  "kernelspec": {
   "display_name": "Python 3 (ipykernel)",
   "language": "python",
   "name": "python3"
  },
  "language_info": {
   "codemirror_mode": {
    "name": "ipython",
    "version": 3
   },
   "file_extension": ".py",
   "mimetype": "text/x-python",
   "name": "python",
   "nbconvert_exporter": "python",
   "pygments_lexer": "ipython3",
   "version": "3.10.2"
  }
 },
 "nbformat": 4,
 "nbformat_minor": 5
}
