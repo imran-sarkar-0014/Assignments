{
 "cells": [
  {
   "cell_type": "code",
   "execution_count": null,
   "id": "b15ed434",
   "metadata": {},
   "outputs": [],
   "source": [
    "# Libraries to be used\n",
    "import pandas as pd\n",
    "import numpy as np\n",
    "import matplotlib.pyplot as plt\n",
    "import seaborn as sns\n",
    "\n",
    "from sklearn.model_selection import train_test_split\n",
    "from sklearn.linear_model import LogisticRegression\n",
    "from sklearn.metrics import classification_report\n"
   ]
  },
  {
   "cell_type": "code",
   "execution_count": null,
   "id": "bc315f17",
   "metadata": {},
   "outputs": [],
   "source": [
    "# import the dataset\n",
    "bank = pd.read_csv('./Datasets for Assignment 3/bank.csv')\n",
    "bank.head()\n"
   ]
  },
  {
   "cell_type": "code",
   "execution_count": null,
   "id": "f9e22be8",
   "metadata": {},
   "outputs": [],
   "source": [
    "#Perform one-hot encoding on the categorical columns job, marital and education\n",
    "\n",
    "bank = pd.get_dummies(bank, columns=['job', 'marital', 'education'], drop_first=True)\n",
    "bank.head()\n"
   ]
  },
  {
   "cell_type": "code",
   "execution_count": null,
   "id": "a87f4b25",
   "metadata": {},
   "outputs": [],
   "source": [
    "# Remove the outliers of balance\n",
    "\n",
    "bank.balance.hist()\n",
    "\n",
    "balance_outlier_top = bank.balance.quantile(1)\n",
    "balance_outlier_bottom = bank.balance.quantile(.25)\n",
    "\n",
    "bank = bank[(bank.balance <= balance_outlier_top) & (bank.balance >= balance_outlier_bottom )]\n",
    "\n",
    "bank.balance.hist()\n",
    "\n"
   ]
  },
  {
   "cell_type": "code",
   "execution_count": null,
   "id": "a24afcf7",
   "metadata": {},
   "outputs": [],
   "source": [
    "# Remove the outliers of duration\n",
    "\n",
    "bank.duration.hist()\n",
    "\n",
    "\n",
    "duration_outlier_top = bank.duration.quantile(1)\n",
    "duration_outlier_bottom = bank.duration.quantile(.20)\n",
    "\n",
    "bank = bank[(bank.duration <= duration_outlier_top) & (bank.duration > duration_outlier_bottom )]\n",
    "\n",
    "bank.duration.hist()"
   ]
  },
  {
   "cell_type": "code",
   "execution_count": null,
   "id": "f8b1f9a2",
   "metadata": {},
   "outputs": [],
   "source": [
    "# Remove the outliers of contact count\n",
    "\n",
    "bank.contact_count.hist()\n",
    "\n",
    "\n",
    "contact_count_outlier_top = bank.contact_count.quantile(1)\n",
    "contact_count_outlier_bottom = bank.contact_count.quantile(.20)\n",
    "\n",
    "bank = bank[(bank.contact_count <= contact_count_outlier_top) & (bank.contact_count > contact_count_outlier_bottom )]\n",
    "\n",
    "bank.contact_count.hist()\n",
    "\n",
    "standard_deviations = 3\n"
   ]
  },
  {
   "cell_type": "code",
   "execution_count": null,
   "id": "3bc82bd0",
   "metadata": {},
   "outputs": [],
   "source": [
    "# list of columns which will be removed from training.\n",
    "isolated_cols = ['outcome']\n",
    "\n",
    "X = bank.drop( isolated_cols , axis=1)\n",
    "Y = bank.outcome\n",
    "\n",
    "# split the dataset into training(75%) and testing(25%).\n",
    "X_train, X_test, Y_train, Y_test = train_test_split(X, Y, test_size=.25, random_state=0) \n",
    "\n",
    "# Create the model\n",
    "# set max_iter 10000 to get higher accuracy and avoid warinings\n",
    "model = LogisticRegression( solver=\"lbfgs\", max_iter=10000 )\n",
    "\n",
    "# build the model\n",
    "model.fit(X_train, Y_train)"
   ]
  },
  {
   "cell_type": "code",
   "execution_count": null,
   "id": "2cfa7207",
   "metadata": {},
   "outputs": [],
   "source": [
    "# predict the model with traning data\n",
    "Y_train_prediction = model.predict(X_train)\n",
    "\n",
    "# predict the model with testing data \n",
    "Y_test_predction = model.predict(X_test)\n",
    "\n",
    "# Print the result of report\n",
    "print(classification_report(Y_train, Y_train_prediction))\n",
    "print(classification_report(Y_test, Y_test_predction))"
   ]
  },
  {
   "cell_type": "code",
   "execution_count": null,
   "id": "da0ad76d",
   "metadata": {},
   "outputs": [],
   "source": [
    "# Does the model perform similarly for the two possible categories of ’outcome’, i.e. for positive and\n",
    "# negative class? If not, do you think it is a problem? How many false negatives do you find, i.e.\n",
    "# clients who would invest in the advertised product but the model predicts that they would not?\n",
    "\n",
    "# \n",
    "# case: I couldn't catch the question. \n",
    "# todo: try to know about the question, ask your teacher and friends.\n",
    "#\n",
    "# hope: I will try, if I get I will send you."
   ]
  }
 ],
 "metadata": {
  "interpreter": {
   "hash": "3ba2ec840834aa6d5e781cf6d61328ba486d2096339d46cd6b17ca181936a915"
  },
  "kernelspec": {
   "display_name": "Python 3.10.2 64-bit",
   "language": "python",
   "name": "python3"
  },
  "language_info": {
   "codemirror_mode": {
    "name": "ipython",
    "version": 3
   },
   "file_extension": ".py",
   "mimetype": "text/x-python",
   "name": "python",
   "nbconvert_exporter": "python",
   "pygments_lexer": "ipython3",
   "version": "3.9.7"
  }
 },
 "nbformat": 4,
 "nbformat_minor": 5
}
