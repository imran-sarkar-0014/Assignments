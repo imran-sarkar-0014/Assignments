{
 "cells": [
  {
   "cell_type": "code",
   "execution_count": null,
   "metadata": {},
   "outputs": [],
   "source": [
    "import numpy as np\n",
    "import pandas as pd\n",
    "import matplotlib.pyplot as plt\n",
    "import seaborn as sns"
   ]
  },
  {
   "cell_type": "markdown",
   "metadata": {},
   "source": [
    "In this exercise, you will have to continue working the the Credit dataset, and prepare it for\n",
    "further modeling through the following steps."
   ]
  },
  {
   "cell_type": "code",
   "execution_count": null,
   "metadata": {},
   "outputs": [],
   "source": [
    "# Remove outliers: for each numeric column, remove the top 5% of values (0.95 quantile)\n",
    "\n",
    "credit_data = pd.read_csv('credit.csv',sep=';', decimal = ',')\n",
    "\n",
    "cut_off_income = credit_data['Income'].quantile(0.95)\n",
    "cut_off_limit = credit_data['Limit'].quantile(0.95)\n",
    "cut_off_rating = credit_data['Rating'].quantile(0.95)\n",
    "cut_off_age = credit_data['Age'].quantile(0.95)\n",
    "\n",
    "credit_data = credit_data[(credit_data['Income'] < cut_off_income) &\n",
    "                          (credit_data['Limit'] < cut_off_limit) &\n",
    "                          (credit_data['Rating'] < cut_off_rating) &\n",
    "                          (credit_data['Age'] < cut_off_age)]"
   ]
  },
  {
   "cell_type": "code",
   "execution_count": null,
   "metadata": {},
   "outputs": [],
   "source": [
    "# Create a categorical version of Cards column with two categories: (i) users with more than 3, and\n",
    "# (ii) users with at most 3 cards.\n",
    "\n",
    "credit_data['Cards'] = (credit_data.Cards > 3).astype(int)"
   ]
  },
  {
   "cell_type": "code",
   "execution_count": null,
   "metadata": {},
   "outputs": [],
   "source": [
    "# Create a categorical version of Age with 4 categories. You may freely choose the intervals, but name\n",
    "# the categories Very young, Young, Middle-aged and Elderly\n",
    "\n",
    "bins = [22, 30, 45, 60, 82]\n",
    "\n",
    "labels = ['Very young', 'Young', 'Middle-aged', 'Elderly']\n",
    "\n",
    "credit_data['Age_bin'] = pd.cut(credit_data['Age'] , bins, labels = labels)\n",
    "\n",
    "credit_data.drop('Age', axis = 1, inplace = True)"
   ]
  },
  {
   "cell_type": "code",
   "execution_count": null,
   "metadata": {},
   "outputs": [],
   "source": [
    "# Scale the remaining numeric columns using the min-max transformation.\n",
    "\n",
    "from sklearn.preprocessing import MinMaxScaler\n",
    "\n",
    "data_min_max_scaler = MinMaxScaler()\n",
    "\n",
    "data_min_max_scaler.fit(credit_data[['Income']])\n",
    "credit_data['Income'] = data_min_max_scaler.transform(credit_data[['Income']])\n",
    "\n",
    "data_min_max_scaler.fit(credit_data[['Limit']])\n",
    "credit_data['Limit'] = data_min_max_scaler.transform(credit_data[['Limit']])\n",
    "\n",
    "data_min_max_scaler.fit(credit_data[['Rating']])\n",
    "credit_data['Rating'] = data_min_max_scaler.transform(credit_data[['Rating']])\n"
   ]
  },
  {
   "cell_type": "code",
   "execution_count": null,
   "metadata": {},
   "outputs": [],
   "source": [
    "# Create dummy variables (one-hot encoding) for all the categorical columns\n",
    "\n",
    "credit_data = pd.get_dummies(credit_data, columns=['Gender', 'Student', 'Married','Ethnicity', 'Age_bin'], drop_first=True)"
   ]
  },
  {
   "cell_type": "code",
   "execution_count": null,
   "metadata": {},
   "outputs": [],
   "source": [
    "# Final data\n",
    "credit_data.head()"
   ]
  },
  {
   "cell_type": "code",
   "execution_count": null,
   "metadata": {},
   "outputs": [],
   "source": []
  }
 ],
 "metadata": {
  "kernelspec": {
   "display_name": "Python 3",
   "language": "python",
   "name": "python3"
  },
  "language_info": {
   "codemirror_mode": {
    "name": "ipython",
    "version": 3
   },
   "file_extension": ".py",
   "mimetype": "text/x-python",
   "name": "python",
   "nbconvert_exporter": "python",
   "pygments_lexer": "ipython3",
   "version": "3.8.8"
  }
 },
 "nbformat": 4,
 "nbformat_minor": 2
}
