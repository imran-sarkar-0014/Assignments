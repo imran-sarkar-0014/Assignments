{
 "cells": [
  {
   "cell_type": "code",
   "execution_count": null,
   "metadata": {},
   "outputs": [],
   "source": [
    "# Importing libraries\n",
    "\n",
    "import numpy as np\n",
    "import pandas as pd\n",
    "import matplotlib.pyplot as plt\n",
    "import seaborn as sns\n",
    "\n",
    "# Regression modelling\n",
    "from sklearn import linear_model\n",
    "from sklearn.metrics import mean_squared_error, r2_score\n",
    "import statsmodels.api as sm"
   ]
  },
  {
   "cell_type": "markdown",
   "metadata": {},
   "source": [
    "### Simple linear regression\n",
    "In the first part, we will see how to perform linear regression with a single predictor variable. The task is to predict the market value of a real estate using the home size as the predictor."
   ]
  },
  {
   "cell_type": "code",
   "execution_count": null,
   "metadata": {},
   "outputs": [],
   "source": [
    "# Importing housing data\n",
    "\n",
    "house_data = pd.read_csv('estate.csv', sep = ';')\n",
    "house_data.head()"
   ]
  },
  {
   "cell_type": "code",
   "execution_count": null,
   "metadata": {},
   "outputs": [],
   "source": [
    "# Looking at the relationship\n",
    "# We can confirm that there is an observable linear relationship\n",
    "\n",
    "sns.jointplot(x ='Market_Value', y = 'Home_size', data = house_data)"
   ]
  },
  {
   "cell_type": "code",
   "execution_count": null,
   "metadata": {},
   "outputs": [],
   "source": [
    "# Separate predictors and target, as they will need to be provided separately\n",
    "# when creating the model. The predictor(s) as a dataframe, target as series\n",
    "\n",
    "house_X, house_y = house_data[['Home_size']], house_data.Market_Value\n",
    "\n",
    "# Create linear regression object, a placeholder for the model to be built\n",
    "\n",
    "regr = linear_model.LinearRegression()\n",
    "\n",
    "# Train the model using the predictor and target data\n",
    "\n",
    "regr.fit(house_X, house_y)\n",
    "\n",
    "# The coefficient and intercept can be printed as the two components intercept_ \n",
    "# and coef_ of the created model\n",
    "print(regr.intercept_)\n",
    "print(regr.coef_)"
   ]
  },
  {
   "cell_type": "code",
   "execution_count": null,
   "metadata": {},
   "outputs": [],
   "source": [
    "# Making predictions by using .predict on the created model\n",
    "house_y_pred = regr.predict(house_X)\n",
    "\n",
    "# As we can see, some predictions are quite close, some are far from the original value\n",
    "\n",
    "print(house_y[:5])\n",
    "print(pd.Series(house_y_pred[:5]).astype('int'))"
   ]
  },
  {
   "cell_type": "code",
   "execution_count": null,
   "metadata": {},
   "outputs": [],
   "source": [
    "# The mean squared error, and we know that the created model is optimal\n",
    "# so it is not possible to find another model for which this error would be lower\n",
    "\n",
    "print(mean_squared_error(house_y, house_y_pred))\n",
    "\n",
    "# The coefficient of determination: 1 is perfect prediction\n",
    "\n",
    "print(r2_score(house_y, house_y_pred))"
   ]
  },
  {
   "cell_type": "code",
   "execution_count": null,
   "metadata": {},
   "outputs": [],
   "source": [
    "# In order to get the results of statistical tests, it is more convenient the statsmodels library\n",
    "\n",
    "X2 = sm.add_constant(house_X)\n",
    "est = sm.OLS(house_y, X2)\n",
    "est2 = est.fit()\n",
    "\n",
    "print(est2.summary())"
   ]
  },
  {
   "cell_type": "code",
   "execution_count": null,
   "metadata": {},
   "outputs": [],
   "source": [
    "# Creting the residual plot, i.e. the difference between the original values and the predictions\n",
    "\n",
    "residuals = house_y - house_y_pred\n",
    "\n",
    "sns.scatterplot(house_data['Home_size'], residuals)"
   ]
  },
  {
   "cell_type": "code",
   "execution_count": null,
   "metadata": {},
   "outputs": [],
   "source": [
    "# Residual histogram\n",
    "# We can see that is looks like a normal distribution\n",
    "\n",
    "sns.distplot(residuals)"
   ]
  },
  {
   "cell_type": "markdown",
   "metadata": {},
   "source": [
    "### Multiple linear regression\n",
    "In this section we will look at how to build regression models with multiple predictor variables."
   ]
  },
  {
   "cell_type": "code",
   "execution_count": null,
   "metadata": {},
   "outputs": [],
   "source": [
    "# Importing bank data\n",
    "bank_data = pd.read_csv('bank.csv', delimiter=\";\", decimal=\",\")\n",
    "bank_data.head()"
   ]
  },
  {
   "cell_type": "code",
   "execution_count": null,
   "metadata": {},
   "outputs": [],
   "source": [
    "# With scikit learn, we have the same steps\n",
    "# the only difference is that the dataframe of predictors will have multiple columns\n",
    "\n",
    "# Separate predictors and target\n",
    "bank_X, bank_y = bank_data[bank_data.columns[:5]], bank_data.Balance\n",
    "\n",
    "\n",
    "# Create linear regression object\n",
    "regr_bank = linear_model.LinearRegression()\n",
    "\n",
    "# Train the model using the training sets\n",
    "regr_bank.fit(bank_X, bank_y)\n",
    "\n",
    "# The coefficient and intercept\n",
    "print(regr_bank.intercept_)\n",
    "print(regr_bank.coef_)"
   ]
  },
  {
   "cell_type": "code",
   "execution_count": null,
   "metadata": {},
   "outputs": [],
   "source": [
    "# With statsmodels, similarly as above\n",
    "# We can observe more details here\n",
    "# In particular, we can easily identify variables with not significant coefficients\n",
    "\n",
    "X2 = sm.add_constant(bank_X)\n",
    "est_b = sm.OLS(bank_y, X2)\n",
    "est2_b = est_b.fit()\n",
    "\n",
    "print(est2_b.summary())"
   ]
  },
  {
   "cell_type": "code",
   "execution_count": null,
   "metadata": {},
   "outputs": [],
   "source": [
    "# Remove try to build a model without Home value, that was found not significant above\n",
    "# As we can see, the quality of the model remains the same\n",
    "\n",
    "X2 = sm.add_constant(bank_X.drop(['Home Value'], axis = 1))\n",
    "est_b = sm.OLS(bank_y, X2)\n",
    "est2_b = est_b.fit()\n",
    "\n",
    "print(est2_b.summary())"
   ]
  },
  {
   "cell_type": "code",
   "execution_count": null,
   "metadata": {},
   "outputs": [],
   "source": [
    "# Check correlation\n",
    "# Very high for Wealth and Income, suggesting that we could remove one\n",
    "\n",
    "bank_X.corr()"
   ]
  },
  {
   "cell_type": "code",
   "execution_count": null,
   "metadata": {},
   "outputs": [],
   "source": [
    "# Remove Home value and Wealth/Income\n",
    "\n",
    "X2 = sm.add_constant(bank_X.drop(['Home Value', 'Wealth'], axis = 1))\n",
    "est_b = sm.OLS(bank_y, X2)\n",
    "est2_b = est_b.fit()\n",
    "\n",
    "print(est2_b.summary())"
   ]
  },
  {
   "cell_type": "markdown",
   "metadata": {},
   "source": [
    "### Regression with categorical variables"
   ]
  },
  {
   "cell_type": "code",
   "execution_count": null,
   "metadata": {},
   "outputs": [],
   "source": [
    "# Importing data\n",
    "salary_data = pd.read_csv('salary.csv', delimiter=\";\", decimal=\",\")\n",
    "salary_data.head()"
   ]
  },
  {
   "cell_type": "code",
   "execution_count": null,
   "metadata": {},
   "outputs": [],
   "source": [
    "# We can create one-hot encoding to transform MBA into a 0-1 column\n",
    "\n",
    "salary_data = pd.get_dummies(salary_data, columns=['MBA'], drop_first=True, prefix='MBA')\n",
    "\n",
    "salary_data.head()"
   ]
  },
  {
   "cell_type": "code",
   "execution_count": null,
   "metadata": {},
   "outputs": [],
   "source": [
    "# Create the model in the same steps\n",
    "\n",
    "salary_X, salary_y = salary_data[['Age', 'MBA_Yes']], salary_data.Salary\n",
    "\n",
    "X2 = sm.add_constant(salary_X)\n",
    "est_s = sm.OLS(salary_y, X2)\n",
    "est2_s = est_s.fit()\n",
    "\n",
    "print(est2_s.summary())"
   ]
  },
  {
   "cell_type": "code",
   "execution_count": null,
   "metadata": {},
   "outputs": [],
   "source": []
  }
 ],
 "metadata": {
  "kernelspec": {
   "display_name": "Python 3",
   "language": "python",
   "name": "python3"
  },
  "language_info": {
   "codemirror_mode": {
    "name": "ipython",
    "version": 3
   },
   "file_extension": ".py",
   "mimetype": "text/x-python",
   "name": "python",
   "nbconvert_exporter": "python",
   "pygments_lexer": "ipython3",
   "version": "3.8.8"
  }
 },
 "nbformat": 4,
 "nbformat_minor": 2
}
