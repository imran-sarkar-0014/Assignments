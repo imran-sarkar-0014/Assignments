{
 "cells": [
  {
   "cell_type": "code",
   "execution_count": null,
   "metadata": {},
   "outputs": [],
   "source": [
    "# In the following, we will go through an example of building binary classification models\n",
    "# In the example, we will look at data about whether somebody was admitted to a university or not\n",
    "# First we import the libraries\n",
    "\n",
    "import pandas as pd\n",
    "from sklearn.model_selection import train_test_split\n",
    "from sklearn.linear_model import LogisticRegression\n",
    "from sklearn import metrics\n",
    "import seaborn as sns\n",
    "import matplotlib.pyplot as plt"
   ]
  },
  {
   "cell_type": "code",
   "execution_count": null,
   "metadata": {},
   "outputs": [],
   "source": [
    "# Then import the data\n",
    "# We have exam results from the student, gre and gpe, and a measure of the rank of high school the student comes from\n",
    "\n",
    "admit_data = pd.read_csv('school_data.csv')\n",
    "\n",
    "admit_data.head()"
   ]
  },
  {
   "cell_type": "code",
   "execution_count": null,
   "metadata": {},
   "outputs": [],
   "source": [
    "# We could start with some basic data understanding, i.e. how are the varibles related to each other \n",
    "# and most importantly to admit\n",
    "# without aiming to be complete, we can look at correlation\n",
    "# We can see that gre and gpa seem to be moderately correlated\n",
    "\n",
    "admit_data.corr()"
   ]
  },
  {
   "cell_type": "code",
   "execution_count": null,
   "metadata": {},
   "outputs": [],
   "source": [
    "# We tabulate admit and rank (note: rank 1 is the best)\n",
    "\n",
    "admit_data[['rank', 'admit']].groupby(['admit', 'rank']).size()"
   ]
  },
  {
   "cell_type": "code",
   "execution_count": null,
   "metadata": {},
   "outputs": [],
   "source": [
    "# We can create box plots for the numeric columns and admit categories\n",
    "\n",
    "sns.boxplot('admit', 'gpa', data = admit_data)"
   ]
  },
  {
   "cell_type": "code",
   "execution_count": null,
   "metadata": {},
   "outputs": [],
   "source": [
    "# At least it seems that all the variables are relevant to some extent, so we can create our model\n",
    "# First create training and test set\n",
    "\n",
    "X_train, X_test, y_train, y_test = train_test_split(admit_data[['gre', 'gpa', 'rank']], admit_data['admit'],\n",
    "                                                    test_size=0.25,random_state=42) "
   ]
  },
  {
   "cell_type": "code",
   "execution_count": null,
   "metadata": {},
   "outputs": [],
   "source": [
    "# Then fit the model to the training set\n",
    "\n",
    "logistic_regression= LogisticRegression(solver = 'lbfgs')\n",
    "logistic_regression.fit(X_train,y_train)"
   ]
  },
  {
   "cell_type": "code",
   "execution_count": null,
   "metadata": {},
   "outputs": [],
   "source": [
    "# We can create predictions for both train and test sets to compare results\n",
    "\n",
    "y_train_predict = logistic_regression.predict(X_train)\n",
    "y_test_predict = logistic_regression.predict(X_test)"
   ]
  },
  {
   "cell_type": "code",
   "execution_count": null,
   "metadata": {},
   "outputs": [],
   "source": [
    "# We can calculate the performance for both training and test set\n",
    "# As we can see accuracy is lower for test set as expected, but not too much lower\n",
    "\n",
    "report_train = metrics.classification_report(y_train, y_train_predict)\n",
    "\n",
    "print(report_train)\n",
    "\n",
    "report_test = metrics.classification_report(y_test, y_test_predict)\n",
    "\n",
    "print(report_test)"
   ]
  },
  {
   "cell_type": "code",
   "execution_count": null,
   "metadata": {},
   "outputs": [],
   "source": []
  }
 ],
 "metadata": {
  "kernelspec": {
   "display_name": "Python 3",
   "language": "python",
   "name": "python3"
  },
  "language_info": {
   "codemirror_mode": {
    "name": "ipython",
    "version": 3
   },
   "file_extension": ".py",
   "mimetype": "text/x-python",
   "name": "python",
   "nbconvert_exporter": "python",
   "pygments_lexer": "ipython3",
   "version": "3.8.8"
  }
 },
 "nbformat": 4,
 "nbformat_minor": 2
}
